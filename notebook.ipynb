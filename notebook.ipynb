{
 "cells": [
  {
   "cell_type": "code",
   "execution_count": 2,
   "id": "60e22883-84e6-43e8-b3e5-dab60dbb5b19",
   "metadata": {},
   "outputs": [],
   "source": [
    "import pandas as pd\n",
    "from sklearn.model_selection import train_test_split\n",
    "from sklearn.preprocessing import LabelEncoder\n",
    "from sklearn.linear_model import LinearRegression\n",
    "import folium\n",
    "import matplotlib.pyplot as plt\n",
    "import seaborn as sns\n",
    "import numpy as np"
   ]
  },
  {
   "cell_type": "code",
   "execution_count": 3,
   "id": "320b6dec-6e28-4229-b696-33539c1efe9d",
   "metadata": {},
   "outputs": [],
   "source": [
    "with open(\"lieux-2022.csv\", \"r\") as csv_file:\n",
    "    headers = \"\".join([line.strip() for line in csv_file.readlines()[:2]]).split(\";\")"
   ]
  },
  {
   "cell_type": "code",
   "execution_count": 4,
   "id": "1797cc50-3457-457b-8546-ddb71497b677",
   "metadata": {
    "scrolled": true
   },
   "outputs": [
    {
     "name": "stderr",
     "output_type": "stream",
     "text": [
      "/tmp/ipykernel_236145/566372591.py:1: DtypeWarning: Columns (6) have mixed types. Specify dtype option on import or set low_memory=False.\n",
      "  lieu_df = pd.read_csv(\"lieux-2022.csv\", delimiter=\";\")\n"
     ]
    },
    {
     "data": {
      "text/html": [
       "<div>\n",
       "<style scoped>\n",
       "    .dataframe tbody tr th:only-of-type {\n",
       "        vertical-align: middle;\n",
       "    }\n",
       "\n",
       "    .dataframe tbody tr th {\n",
       "        vertical-align: top;\n",
       "    }\n",
       "\n",
       "    .dataframe thead th {\n",
       "        text-align: right;\n",
       "    }\n",
       "</style>\n",
       "<table border=\"1\" class=\"dataframe\">\n",
       "  <thead>\n",
       "    <tr style=\"text-align: right;\">\n",
       "      <th></th>\n",
       "      <th>Num_Acc</th>\n",
       "      <th>catr</th>\n",
       "      <th>voie</th>\n",
       "      <th>v1</th>\n",
       "      <th>v2</th>\n",
       "      <th>circ</th>\n",
       "      <th>nbv</th>\n",
       "      <th>vosp</th>\n",
       "      <th>prof</th>\n",
       "      <th>pr</th>\n",
       "      <th>pr1</th>\n",
       "      <th>plan</th>\n",
       "      <th>lartpc</th>\n",
       "      <th>larrout</th>\n",
       "      <th>surf</th>\n",
       "      <th>infra</th>\n",
       "      <th>situ</th>\n",
       "      <th>vma</th>\n",
       "    </tr>\n",
       "  </thead>\n",
       "  <tbody>\n",
       "    <tr>\n",
       "      <th>0</th>\n",
       "      <td>202200000001</td>\n",
       "      <td>4</td>\n",
       "      <td>TEIL(vieille route du)</td>\n",
       "      <td>0</td>\n",
       "      <td>NaN</td>\n",
       "      <td>2</td>\n",
       "      <td>2</td>\n",
       "      <td>0</td>\n",
       "      <td>1</td>\n",
       "      <td>(1)</td>\n",
       "      <td>(1)</td>\n",
       "      <td>1</td>\n",
       "      <td>NaN</td>\n",
       "      <td>-1</td>\n",
       "      <td>1</td>\n",
       "      <td>0</td>\n",
       "      <td>1</td>\n",
       "      <td>50</td>\n",
       "    </tr>\n",
       "    <tr>\n",
       "      <th>1</th>\n",
       "      <td>202200000002</td>\n",
       "      <td>4</td>\n",
       "      <td>NaN</td>\n",
       "      <td>0</td>\n",
       "      <td>NaN</td>\n",
       "      <td>2</td>\n",
       "      <td>2</td>\n",
       "      <td>0</td>\n",
       "      <td>1</td>\n",
       "      <td>(1)</td>\n",
       "      <td>(1)</td>\n",
       "      <td>1</td>\n",
       "      <td>NaN</td>\n",
       "      <td>-1</td>\n",
       "      <td>1</td>\n",
       "      <td>0</td>\n",
       "      <td>1</td>\n",
       "      <td>50</td>\n",
       "    </tr>\n",
       "    <tr>\n",
       "      <th>2</th>\n",
       "      <td>202200000003</td>\n",
       "      <td>3</td>\n",
       "      <td>ROND POINT DE BREZILLET</td>\n",
       "      <td>0</td>\n",
       "      <td>NaN</td>\n",
       "      <td>-1</td>\n",
       "      <td>2</td>\n",
       "      <td>0</td>\n",
       "      <td>1</td>\n",
       "      <td>0</td>\n",
       "      <td>0</td>\n",
       "      <td>1</td>\n",
       "      <td>NaN</td>\n",
       "      <td>-1</td>\n",
       "      <td>1</td>\n",
       "      <td>5</td>\n",
       "      <td>1</td>\n",
       "      <td>50</td>\n",
       "    </tr>\n",
       "    <tr>\n",
       "      <th>3</th>\n",
       "      <td>202200000004</td>\n",
       "      <td>4</td>\n",
       "      <td>QUATORZE JUILLET (RUE DU)</td>\n",
       "      <td>0</td>\n",
       "      <td>NaN</td>\n",
       "      <td>1</td>\n",
       "      <td>1</td>\n",
       "      <td>0</td>\n",
       "      <td>2</td>\n",
       "      <td>(1)</td>\n",
       "      <td>(1)</td>\n",
       "      <td>1</td>\n",
       "      <td>NaN</td>\n",
       "      <td>4</td>\n",
       "      <td>1</td>\n",
       "      <td>0</td>\n",
       "      <td>1</td>\n",
       "      <td>30</td>\n",
       "    </tr>\n",
       "    <tr>\n",
       "      <th>4</th>\n",
       "      <td>202200000005</td>\n",
       "      <td>3</td>\n",
       "      <td>ROUTE DE JEAN MOULIN-RN 538</td>\n",
       "      <td>0</td>\n",
       "      <td>NaN</td>\n",
       "      <td>2</td>\n",
       "      <td>2</td>\n",
       "      <td>0</td>\n",
       "      <td>1</td>\n",
       "      <td>8</td>\n",
       "      <td>0</td>\n",
       "      <td>1</td>\n",
       "      <td>NaN</td>\n",
       "      <td>-1</td>\n",
       "      <td>1</td>\n",
       "      <td>0</td>\n",
       "      <td>1</td>\n",
       "      <td>80</td>\n",
       "    </tr>\n",
       "  </tbody>\n",
       "</table>\n",
       "</div>"
      ],
      "text/plain": [
       "        Num_Acc  catr                         voie  v1   v2  circ nbv  vosp  \\\n",
       "0  202200000001     4       TEIL(vieille route du)   0  NaN     2   2     0   \n",
       "1  202200000002     4                          NaN   0  NaN     2   2     0   \n",
       "2  202200000003     3      ROND POINT DE BREZILLET   0  NaN    -1   2     0   \n",
       "3  202200000004     4    QUATORZE JUILLET (RUE DU)   0  NaN     1   1     0   \n",
       "4  202200000005     3  ROUTE DE JEAN MOULIN-RN 538   0  NaN     2   2     0   \n",
       "\n",
       "   prof   pr  pr1  plan lartpc larrout  surf  infra  situ  vma  \n",
       "0     1  (1)  (1)     1    NaN      -1     1      0     1   50  \n",
       "1     1  (1)  (1)     1    NaN      -1     1      0     1   50  \n",
       "2     1    0    0     1    NaN      -1     1      5     1   50  \n",
       "3     2  (1)  (1)     1    NaN       4     1      0     1   30  \n",
       "4     1    8    0     1    NaN      -1     1      0     1   80  "
      ]
     },
     "execution_count": 4,
     "metadata": {},
     "output_type": "execute_result"
    }
   ],
   "source": [
    "lieu_df = pd.read_csv(\"lieux-2022.csv\", delimiter=\";\")\n",
    "lieu_df.head()"
   ]
  },
  {
   "cell_type": "code",
   "execution_count": 5,
   "id": "174afcf4-f2c9-4577-abc7-0f8d2527a6d0",
   "metadata": {},
   "outputs": [
    {
     "data": {
      "text/html": [
       "<div>\n",
       "<style scoped>\n",
       "    .dataframe tbody tr th:only-of-type {\n",
       "        vertical-align: middle;\n",
       "    }\n",
       "\n",
       "    .dataframe tbody tr th {\n",
       "        vertical-align: top;\n",
       "    }\n",
       "\n",
       "    .dataframe thead th {\n",
       "        text-align: right;\n",
       "    }\n",
       "</style>\n",
       "<table border=\"1\" class=\"dataframe\">\n",
       "  <thead>\n",
       "    <tr style=\"text-align: right;\">\n",
       "      <th></th>\n",
       "      <th>Accident_Id</th>\n",
       "      <th>jour</th>\n",
       "      <th>mois</th>\n",
       "      <th>an</th>\n",
       "      <th>hrmn</th>\n",
       "      <th>lum</th>\n",
       "      <th>dep</th>\n",
       "      <th>com</th>\n",
       "      <th>agg</th>\n",
       "      <th>int</th>\n",
       "      <th>atm</th>\n",
       "      <th>col</th>\n",
       "      <th>adr</th>\n",
       "      <th>lat</th>\n",
       "      <th>long</th>\n",
       "    </tr>\n",
       "  </thead>\n",
       "  <tbody>\n",
       "    <tr>\n",
       "      <th>0</th>\n",
       "      <td>202200000001</td>\n",
       "      <td>19</td>\n",
       "      <td>10</td>\n",
       "      <td>2022</td>\n",
       "      <td>16:15</td>\n",
       "      <td>1</td>\n",
       "      <td>26</td>\n",
       "      <td>26198</td>\n",
       "      <td>2</td>\n",
       "      <td>3</td>\n",
       "      <td>1</td>\n",
       "      <td>3</td>\n",
       "      <td>TEIL(vieille route du)</td>\n",
       "      <td>44.559420</td>\n",
       "      <td>4.725720</td>\n",
       "    </tr>\n",
       "    <tr>\n",
       "      <th>1</th>\n",
       "      <td>202200000002</td>\n",
       "      <td>20</td>\n",
       "      <td>10</td>\n",
       "      <td>2022</td>\n",
       "      <td>08:34</td>\n",
       "      <td>1</td>\n",
       "      <td>25</td>\n",
       "      <td>25204</td>\n",
       "      <td>2</td>\n",
       "      <td>3</td>\n",
       "      <td>1</td>\n",
       "      <td>3</td>\n",
       "      <td>Miranda</td>\n",
       "      <td>46.925810</td>\n",
       "      <td>6.346200</td>\n",
       "    </tr>\n",
       "    <tr>\n",
       "      <th>2</th>\n",
       "      <td>202200000003</td>\n",
       "      <td>20</td>\n",
       "      <td>10</td>\n",
       "      <td>2022</td>\n",
       "      <td>17:15</td>\n",
       "      <td>1</td>\n",
       "      <td>22</td>\n",
       "      <td>22360</td>\n",
       "      <td>2</td>\n",
       "      <td>6</td>\n",
       "      <td>1</td>\n",
       "      <td>2</td>\n",
       "      <td>ROND POINT DE BREZILLET</td>\n",
       "      <td>48.493162</td>\n",
       "      <td>-2.760439</td>\n",
       "    </tr>\n",
       "    <tr>\n",
       "      <th>3</th>\n",
       "      <td>202200000004</td>\n",
       "      <td>20</td>\n",
       "      <td>10</td>\n",
       "      <td>2022</td>\n",
       "      <td>18:00</td>\n",
       "      <td>1</td>\n",
       "      <td>16</td>\n",
       "      <td>16102</td>\n",
       "      <td>2</td>\n",
       "      <td>3</td>\n",
       "      <td>8</td>\n",
       "      <td>6</td>\n",
       "      <td>LOHMEYER (RUE)</td>\n",
       "      <td>45.692652</td>\n",
       "      <td>-0.326290</td>\n",
       "    </tr>\n",
       "    <tr>\n",
       "      <th>4</th>\n",
       "      <td>202200000005</td>\n",
       "      <td>19</td>\n",
       "      <td>10</td>\n",
       "      <td>2022</td>\n",
       "      <td>11:45</td>\n",
       "      <td>1</td>\n",
       "      <td>13</td>\n",
       "      <td>13103</td>\n",
       "      <td>1</td>\n",
       "      <td>1</td>\n",
       "      <td>1</td>\n",
       "      <td>2</td>\n",
       "      <td>ROUTE DE JEAN MOULIN-RN 538</td>\n",
       "      <td>43.675579</td>\n",
       "      <td>5.092703</td>\n",
       "    </tr>\n",
       "  </tbody>\n",
       "</table>\n",
       "</div>"
      ],
      "text/plain": [
       "    Accident_Id  jour  mois    an   hrmn  lum dep    com  agg  int  atm  col  \\\n",
       "0  202200000001    19    10  2022  16:15    1  26  26198    2    3    1    3   \n",
       "1  202200000002    20    10  2022  08:34    1  25  25204    2    3    1    3   \n",
       "2  202200000003    20    10  2022  17:15    1  22  22360    2    6    1    2   \n",
       "3  202200000004    20    10  2022  18:00    1  16  16102    2    3    8    6   \n",
       "4  202200000005    19    10  2022  11:45    1  13  13103    1    1    1    2   \n",
       "\n",
       "                           adr        lat      long  \n",
       "0       TEIL(vieille route du)  44.559420  4.725720  \n",
       "1                      Miranda  46.925810  6.346200  \n",
       "2      ROND POINT DE BREZILLET  48.493162 -2.760439  \n",
       "3               LOHMEYER (RUE)  45.692652 -0.326290  \n",
       "4  ROUTE DE JEAN MOULIN-RN 538  43.675579  5.092703  "
      ]
     },
     "execution_count": 5,
     "metadata": {},
     "output_type": "execute_result"
    }
   ],
   "source": [
    "carac_df = pd.read_csv(\"carcteristiques-2022.csv\", delimiter=\";\", decimal=\",\")\n",
    "carac_df.head()"
   ]
  },
  {
   "cell_type": "code",
   "execution_count": 6,
   "id": "b64b30c9-1e1f-4381-91c1-7f2d774e6af3",
   "metadata": {
    "scrolled": true
   },
   "outputs": [
    {
     "name": "stdout",
     "output_type": "stream",
     "text": [
      "<class 'pandas.core.frame.DataFrame'>\n",
      "RangeIndex: 55302 entries, 0 to 55301\n",
      "Data columns (total 15 columns):\n",
      " #   Column       Non-Null Count  Dtype  \n",
      "---  ------       --------------  -----  \n",
      " 0   Accident_Id  55302 non-null  int64  \n",
      " 1   jour         55302 non-null  int64  \n",
      " 2   mois         55302 non-null  int64  \n",
      " 3   an           55302 non-null  int64  \n",
      " 4   hrmn         55302 non-null  object \n",
      " 5   lum          55302 non-null  int64  \n",
      " 6   dep          55302 non-null  object \n",
      " 7   com          55302 non-null  object \n",
      " 8   agg          55302 non-null  int64  \n",
      " 9   int          55302 non-null  int64  \n",
      " 10  atm          55302 non-null  int64  \n",
      " 11  col          55302 non-null  int64  \n",
      " 12  adr          54069 non-null  object \n",
      " 13  lat          55302 non-null  float64\n",
      " 14  long         55302 non-null  float64\n",
      "dtypes: float64(2), int64(9), object(4)\n",
      "memory usage: 6.3+ MB\n"
     ]
    }
   ],
   "source": [
    "carac_df.info()"
   ]
  },
  {
   "cell_type": "code",
   "execution_count": 7,
   "id": "69b9836f-2460-4959-ada5-66e84610dbbc",
   "metadata": {},
   "outputs": [],
   "source": [
    "DEPARTMENTS = {\n",
    "    '01': 'Ain', \n",
    "    '02': 'Aisne', \n",
    "    '03': 'Allier', \n",
    "    '04': 'Alpes-de-Haute-Provence', \n",
    "    '05': 'Hautes-Alpes',\n",
    "    '06': 'Alpes-Maritimes', \n",
    "    '07': 'Ardèche', \n",
    "    '08': 'Ardennes', \n",
    "    '09': 'Ariège', \n",
    "    '10': 'Aube', \n",
    "    '11': 'Aude',\n",
    "    '12': 'Aveyron', \n",
    "    '13': 'Bouches-du-Rhône', \n",
    "    '14': 'Calvados', \n",
    "    '15': 'Cantal', \n",
    "    '16': 'Charente',\n",
    "    '17': 'Charente-Maritime', \n",
    "    '18': 'Cher', \n",
    "    '19': 'Corrèze', \n",
    "    '2A': 'Corse-du-Sud', \n",
    "    '2B': 'Haute-Corse',\n",
    "    '21': 'Côte-d\\'Or', \n",
    "    '22': 'Côtes-d\\'Armor', \n",
    "    '23': 'Creuse', \n",
    "    '24': 'Dordogne', \n",
    "    '25': 'Doubs', \n",
    "    '26': 'Drôme',\n",
    "    '27': 'Eure', \n",
    "    '28': 'Eure-et-Loir', \n",
    "    '29': 'Finistère', \n",
    "    '30': 'Gard', \n",
    "    '31': 'Haute-Garonne', \n",
    "    '32': 'Gers',\n",
    "    '33': 'Gironde', \n",
    "    '34': 'Hérault', \n",
    "    '35': 'Ille-et-Vilaine', \n",
    "    '36': 'Indre', \n",
    "    '37': 'Indre-et-Loire',\n",
    "    '38': 'Isère', \n",
    "    '39': 'Jura', \n",
    "    '40': 'Landes', \n",
    "    '41': 'Loir-et-Cher', \n",
    "    '42': 'Loire', \n",
    "    '43': 'Haute-Loire',\n",
    "    '44': 'Loire-Atlantique', \n",
    "    '45': 'Loiret', \n",
    "    '46': 'Lot', \n",
    "    '47': 'Lot-et-Garonne', \n",
    "    '48': 'Lozère',\n",
    "    '49': 'Maine-et-Loire', \n",
    "    '50': 'Manche', \n",
    "    '51': 'Marne', \n",
    "    '52': 'Haute-Marne', \n",
    "    '53': 'Mayenne',\n",
    "    '54': 'Meurthe-et-Moselle', \n",
    "    '55': 'Meuse', \n",
    "    '56': 'Morbihan', \n",
    "    '57': 'Moselle', \n",
    "    '58': 'Nièvre', \n",
    "    '59': 'Nord',\n",
    "    '60': 'Oise', \n",
    "    '61': 'Orne', \n",
    "    '62': 'Pas-de-Calais', \n",
    "    '63': 'Puy-de-Dôme', \n",
    "    '64': 'Pyrénées-Atlantiques',\n",
    "    '65': 'Hautes-Pyrénées', \n",
    "    '66': 'Pyrénées-Orientales', \n",
    "    '67': 'Bas-Rhin', \n",
    "    '68': 'Haut-Rhin', \n",
    "    '69': 'Rhône',\n",
    "    '70': 'Haute-Saône', \n",
    "    '71': 'Saône-et-Loire', \n",
    "    '72': 'Sarthe', \n",
    "    '73': 'Savoie', \n",
    "    '74': 'Haute-Savoie',\n",
    "    '75': 'Paris', \n",
    "    '76': 'Seine-Maritime', \n",
    "    '77': 'Seine-et-Marne', \n",
    "    '78': 'Yvelines', \n",
    "    '79': 'Deux-Sèvres',\n",
    "    '80': 'Somme', \n",
    "    '81': 'Tarn', \n",
    "    '82': 'Tarn-et-Garonne', \n",
    "    '83': 'Var', \n",
    "    '84': 'Vaucluse', \n",
    "    '85': 'Vendée',\n",
    "    '86': 'Vienne', \n",
    "    '87': 'Haute-Vienne', \n",
    "    '88': 'Vosges', \n",
    "    '89': 'Yonne', \n",
    "    '90': 'Territoire de Belfort',\n",
    "    '91': 'Essonne', \n",
    "    '92': 'Hauts-de-Seine', \n",
    "    '93': 'Seine-Saint-Denis', \n",
    "    '94': 'Val-de-Marne', \n",
    "    '95': 'Val-d\\'Oise',\n",
    "    '971': 'Guadeloupe', \n",
    "    '972': 'Martinique', \n",
    "    '973': 'Guyane', \n",
    "    '974': 'La Réunion', \n",
    "    '976': 'Mayotte',\n",
    "}"
   ]
  },
  {
   "cell_type": "code",
   "execution_count": 8,
   "id": "6434f117-40a3-4b4e-a3d5-4f9f3782ce1a",
   "metadata": {},
   "outputs": [],
   "source": [
    "REGIONS2 = {\n",
    "    '01': 'Auvergne-Rhône-Alpes',\n",
    "    '03': 'Auvergne-Rhône-Alpes',\n",
    "    '07': 'Auvergne-Rhône-Alpes',\n",
    "    '15': 'Auvergne-Rhône-Alpes',\n",
    "    '26': 'Auvergne-Rhône-Alpes',\n",
    "    '38': 'Auvergne-Rhône-Alpes',\n",
    "    '42': 'Auvergne-Rhône-Alpes',\n",
    "    '43': 'Auvergne-Rhône-Alpes',\n",
    "    '63': 'Auvergne-Rhône-Alpes',\n",
    "    '69': 'Auvergne-Rhône-Alpes',\n",
    "    '73': 'Auvergne-Rhône-Alpes',\n",
    "    '74': 'Auvergne-Rhône-Alpes',\n",
    "\n",
    "    '21': 'Bourgogne-Franche-Comté',\n",
    "    '25': 'Bourgogne-Franche-Comté',\n",
    "    '39': 'Bourgogne-Franche-Comté',\n",
    "    '58': 'Bourgogne-Franche-Comté',\n",
    "    '70': 'Bourgogne-Franche-Comté',\n",
    "    '71': 'Bourgogne-Franche-Comté',\n",
    "    '89': 'Bourgogne-Franche-Comté',\n",
    "    '90': 'Bourgogne-Franche-Comté',\n",
    "\n",
    "    '35':'Bretagne', \n",
    "    '22':'Bretagne',\n",
    "    '56':'Bretagne',\n",
    "    '29':'Bretagne',\n",
    "  \n",
    "    '18': 'Centre-Val de Loire',\n",
    "    '28': 'Centre-Val de Loire',\n",
    "    '36': 'Centre-Val de Loire',\n",
    "    '37': 'Centre-Val de Loire',\n",
    "    '41': 'Centre-Val de Loire',\n",
    "    '45': 'Centre-Val de Loire',\n",
    "\n",
    "    '2A':'Corse', \n",
    "    '2B':'Corse',\n",
    "\n",
    "    '08':'Grand Est',\n",
    "    '10':'Grand Est',\n",
    "    '51':'Grand Est',\n",
    "    '52':'Grand Est',\n",
    "    '54':'Grand Est',\n",
    "    '55':'Grand Est',\n",
    "    '57':'Grand Est',\n",
    "    '67':'Grand Est',\n",
    "    '68':'Grand Est',\n",
    "    '88':'Grand Est',\n",
    "\n",
    "    '971':'Guadeloupe',\n",
    "    '973':'Guyane',\n",
    "\n",
    "    '02': 'Hauts-de-France',\n",
    "    '59': 'Hauts-de-France',\n",
    "    '60': 'Hauts-de-France', \n",
    "    '62': 'Hauts-de-France',\n",
    "    '80': 'Hauts-de-France',\n",
    "\n",
    "    '75':'Île-de-France',\n",
    "    '77':'Île-de-France',\n",
    "    '78':'Île-de-France', \n",
    "    '91':'Île-de-France',\n",
    "    '92':'Île-de-France',\n",
    "    '93':'Île-de-France',\n",
    "    '94':'Île-de-France',\n",
    "    '95':'Île-de-France',\n",
    "\n",
    "    '974':'La Réunion',\n",
    "    '972':'Martinique',\n",
    "\n",
    "    '14':'Normandie',\n",
    "    '27':'Normandie',\n",
    "    '50':'Normandie',\n",
    "    '61':'Normandie',\n",
    "    '76':'Normandie',\n",
    "  \n",
    "\n",
    "    '16':'Nouvelle-Aquitaine',\n",
    "    '17':'Nouvelle-Aquitaine',\n",
    "    '19':'Nouvelle-Aquitaine',\n",
    "    '23':'Nouvelle-Aquitaine',\n",
    "    '24':'Nouvelle-Aquitaine',\n",
    "    '33':'Nouvelle-Aquitaine',\n",
    "    '40':'Nouvelle-Aquitaine',\n",
    "    '47':'Nouvelle-Aquitaine',\n",
    "    '64':'Nouvelle-Aquitaine',\n",
    "    '79':'Nouvelle-Aquitaine',\n",
    "    '86':'Nouvelle-Aquitaine', \n",
    "    '87':'Nouvelle-Aquitaine',\n",
    "\n",
    "\n",
    "    '09':'Occitanie',\n",
    "    '11':'Occitanie',\n",
    "    '12':'Occitanie',\n",
    "    '30':'Occitanie',\n",
    "    '31':'Occitanie',\n",
    "    '32':'Occitanie',\n",
    "    '34':'Occitanie',\n",
    "    '46':'Occitanie',\n",
    "    '48':'Occitanie',\n",
    "    '65':'Occitanie',\n",
    "    '66':'Occitanie',\n",
    "    '81':'Occitanie',\n",
    "    '82':'Occitanie',\n",
    "\n",
    "    '44':'Pays de la Loire', \n",
    "    '49':'Pays de la Loire',\n",
    "    '53':'Pays de la Loire',\n",
    "    '72':'Pays de la Loire', \n",
    "    '85':'Pays de la Loire',\n",
    "    \n",
    "\n",
    "    '04':'Provence-Alpes-Côte d\\'Azur',\n",
    "    '05':'Provence-Alpes-Côte d\\'Azur',\n",
    "    '06':'Provence-Alpes-Côte d\\'Azur',\n",
    "    '13':'Provence-Alpes-Côte d\\'Azur',\n",
    "    '83':'Provence-Alpes-Côte d\\'Azur',\n",
    "    '84':'Provence-Alpes-Côte d\\'Azur',\n",
    "\n",
    "}"
   ]
  },
  {
   "cell_type": "code",
   "execution_count": 9,
   "id": "e9fd7185-f855-480a-ad83-13c920237520",
   "metadata": {},
   "outputs": [],
   "source": [
    "carac_df[\"Département\"] = carac_df[\"dep\"].map(DEPARTMENTS)\n",
    "carac_df[\"Région\"] = carac_df[\"dep\"].map(REGIONS2)"
   ]
  },
  {
   "cell_type": "code",
   "execution_count": 10,
   "id": "ae9f65c4-dc38-49c4-ad6e-09dcc1e30926",
   "metadata": {},
   "outputs": [],
   "source": [
    "carac_df = carac_df.rename ({\"jour\" : \"Jour\", \"mois\":\"Mois\", \"hrmn\":\"Heure\", \"com\":\"Commune\", \"adr\":\"Adresse\", \"lat\":\"Latitude\", \"long\":\"Longitude\"}, axis=1)\n",
    "carac_df.drop(columns=[\"dep\",\"an\",\"agg\",\"int\",\"atm\",\"col\",\"lum\"], inplace=True)"
   ]
  },
  {
   "cell_type": "code",
   "execution_count": 11,
   "id": "af52f81d-77f0-4732-a033-57fdd4426e4a",
   "metadata": {},
   "outputs": [],
   "source": [
    "# Extracting the 'vma' column from lieu_df\n",
    "extracted_column = lieu_df[\"vma\"]\n",
    " \n",
    "# Adding the extracted column to carac_df at a specific location with a new name\n",
    "carac_df = carac_df.assign(VitesseMax=pd.Series(extracted_column).values)"
   ]
  },
  {
   "cell_type": "code",
   "execution_count": 12,
   "id": "00e9c0a8-eb49-4feb-9464-a8e932ab3656",
   "metadata": {},
   "outputs": [
    {
     "name": "stdout",
     "output_type": "stream",
     "text": [
      "<class 'pandas.core.frame.DataFrame'>\n",
      "RangeIndex: 55302 entries, 0 to 55301\n",
      "Data columns (total 11 columns):\n",
      " #   Column       Non-Null Count  Dtype  \n",
      "---  ------       --------------  -----  \n",
      " 0   Accident_Id  55302 non-null  int64  \n",
      " 1   Jour         55302 non-null  int64  \n",
      " 2   Mois         55302 non-null  int64  \n",
      " 3   Heure        55302 non-null  object \n",
      " 4   Commune      55302 non-null  object \n",
      " 5   Adresse      54069 non-null  object \n",
      " 6   Latitude     55302 non-null  float64\n",
      " 7   Longitude    55302 non-null  float64\n",
      " 8   Département  54828 non-null  object \n",
      " 9   Région       54636 non-null  object \n",
      " 10  VitesseMax   55302 non-null  int64  \n",
      "dtypes: float64(2), int64(4), object(5)\n",
      "memory usage: 4.6+ MB\n"
     ]
    }
   ],
   "source": [
    "carac_df.info()"
   ]
  },
  {
   "cell_type": "code",
   "execution_count": 13,
   "id": "4a42ebdd-0733-4a4e-932c-4a01e0bea8b0",
   "metadata": {},
   "outputs": [
    {
     "data": {
      "text/plain": [
       "<Axes: xlabel='Région'>"
      ]
     },
     "execution_count": 13,
     "metadata": {},
     "output_type": "execute_result"
    },
    {
     "data": {
      "image/png": "[encoded data removed]",
      "text/plain": [
       "<Figure size 2000x600 with 1 Axes>"
      ]
     },
     "metadata": {},
     "output_type": "display_data"
    }
   ],
   "source": [
    "plt.figure(figsize=(20,6))\n",
    "carac_df[\"Région\"].value_counts().plot(kind='bar')"
   ]
  },
  {
   "cell_type": "code",
   "execution_count": 14,
   "id": "82cf19e5-e5b7-4ed5-999a-15ed6aceb5b0",
   "metadata": {},
   "outputs": [],
   "source": [
    "carac_df = carac_df[carac_df[\"VitesseMax\"] <= 150]\n",
    "carac_df = carac_df[carac_df[\"VitesseMax\"] >= 50]\n",
    "carac_df = carac_df[carac_df[\"Latitude\"] >= 41]\n",
    "carac_df = carac_df[carac_df[\"Longitude\"] >= -5]"
   ]
  },
  {
   "cell_type": "code",
   "execution_count": 15,
   "id": "7fc618c6-4d4b-4c9a-964c-5e74c3fda8d3",
   "metadata": {},
   "outputs": [],
   "source": [
    "def f(carac_df):\n",
    "    if (carac_df[\"Mois\"] == 4 or carac_df[\"Mois\"] == 5):\n",
    "        val = \"Printemps\"\n",
    "    elif (carac_df[\"Jour\"] >= 20 and carac_df[\"Mois\"] == 3) or (carac_df[\"Jour\"] <= 21 and carac_df[\"Mois\"] == 6):\n",
    "        val = \"Printemps\"\n",
    "    elif (carac_df[\"Mois\"] == 7 or carac_df[\"Mois\"] == 8):\n",
    "        val = \"Ete\"\n",
    "    elif (carac_df[\"Jour\"] >= 21 and carac_df[\"Mois\"] == 6) or (carac_df[\"Jour\"] <= 23 and carac_df[\"Mois\"] == 9):\n",
    "        val = \"Ete\"\n",
    "    elif (carac_df[\"Mois\"] == 10 or carac_df[\"Mois\"] == 11):\n",
    "        val = \"Automne\"\n",
    "    elif (carac_df[\"Jour\"] >= 23 and carac_df[\"Mois\"] == 9) or (carac_df[\"Jour\"] <= 21 and carac_df[\"Mois\"] == 12):\n",
    "        val = \"Automne\"\n",
    "    else:\n",
    "        val = \"Hiver\"\n",
    "    return val"
   ]
  },
  {
   "cell_type": "code",
   "execution_count": 16,
   "id": "d189753f-1ca3-4a80-9f3b-0ed60eb20d45",
   "metadata": {},
   "outputs": [],
   "source": [
    "carac_df[\"Saison\"] = carac_df.apply(f, axis=1)"
   ]
  },
  {
   "cell_type": "code",
   "execution_count": 17,
   "id": "3b9c5fc1-3332-4cff-9bcc-3b928e4cf67c",
   "metadata": {},
   "outputs": [
    {
     "data": {
      "text/plain": [
       "<function matplotlib.pyplot.show(close=None, block=None)>"
      ]
     },
     "execution_count": 17,
     "metadata": {},
     "output_type": "execute_result"
    },
    {
     "data": {
      "image/png": "[encoded data removed]",
      "text/plain": [
       "<Figure size 1600x1000 with 1 Axes>"
      ]
     },
     "metadata": {},
     "output_type": "display_data"
    }
   ],
   "source": [
    "fig, ax = plt.subplots(1,1, figsize=(16,10))\n",
    "carac_df.boxplot(\"VitesseMax\",\"Région\", ax=ax)\n",
    "plt.suptitle(\"Routes avec le plus d'accidents en France Métropolitaine\")\n",
    "plt.title(\"\")\n",
    "plt.ylabel(\"VitesseMax\")\n",
    "plt.xticks(rotation=90)\n",
    "plt.show"
   ]
  },
  {
   "cell_type": "code",
   "execution_count": 18,
   "id": "d8540005-23f8-4a95-b4c6-336ae13b44e8",
   "metadata": {},
   "outputs": [],
   "source": [
    "df = carac_df"
   ]
  },
  {
   "cell_type": "code",
   "execution_count": 19,
   "id": "fcefbeb7-b251-467e-bddb-7b3c611aa528",
   "metadata": {},
   "outputs": [],
   "source": [
    "label_encoder_region = LabelEncoder()\n",
    "label_encoder_saison = LabelEncoder()"
   ]
  },
  {
   "cell_type": "code",
   "execution_count": 20,
   "id": "09fc7852-73de-4a3c-9c69-557210d526ed",
   "metadata": {},
   "outputs": [],
   "source": [
    "df['Région_encoded'] = label_encoder_region.fit_transform(df['Région'])\n",
    "df['Saison_encoded'] = label_encoder_saison.fit_transform(df['Saison'])"
   ]
  },
  {
   "cell_type": "code",
   "execution_count": 21,
   "id": "f0f49938-9d4f-4b52-8e7f-00256a4986c3",
   "metadata": {},
   "outputs": [],
   "source": [
    "features = ['Région_encoded', 'Saison_encoded']\n",
    "targets = ['Latitude', 'Longitude']"
   ]
  },
  {
   "cell_type": "code",
   "execution_count": 22,
   "id": "21011338-35bf-4dd6-a5f5-31d2b556ced7",
   "metadata": {},
   "outputs": [],
   "source": [
    "X = df[features]\n",
    "y = df[targets]"
   ]
  },
  {
   "cell_type": "code",
   "execution_count": 23,
   "id": "f0498c98-6262-4add-8042-b48f350ced36",
   "metadata": {},
   "outputs": [],
   "source": [
    "X_train, X_test, y_train, y_test = train_test_split(X, y, test_size=0.2, random_state=42)"
   ]
  },
  {
   "cell_type": "code",
   "execution_count": 24,
   "id": "8c24abaa-66f3-408b-9d49-25c53e413500",
   "metadata": {},
   "outputs": [
    {
     "data": {
      "text/html": [
       "<style>#sk-container-id-1 {color: black;}#sk-container-id-1 pre{padding: 0;}#sk-container-id-1 div.sk-toggleable {background-color: white;}#sk-container-id-1 label.sk-toggleable__label {cursor: pointer;display: block;width: 100%;margin-bottom: 0;padding: 0.3em;box-sizing: border-box;text-align: center;}#sk-container-id-1 label.sk-toggleable__label-arrow:before {content: \"▸\";float: left;margin-right: 0.25em;color: #696969;}#sk-container-id-1 label.sk-toggleable__label-arrow:hover:before {color: black;}#sk-container-id-1 div.sk-estimator:hover label.sk-toggleable__label-arrow:before {color: black;}#sk-container-id-1 div.sk-toggleable__content {max-height: 0;max-width: 0;overflow: hidden;text-align: left;background-color: #f0f8ff;}#sk-container-id-1 div.sk-toggleable__content pre {margin: 0.2em;color: black;border-radius: 0.25em;background-color: #f0f8ff;}#sk-container-id-1 input.sk-toggleable__control:checked~div.sk-toggleable__content {max-height: 200px;max-width: 100%;overflow: auto;}#sk-container-id-1 input.sk-toggleable__control:checked~label.sk-toggleable__label-arrow:before {content: \"▾\";}#sk-container-id-1 div.sk-estimator input.sk-toggleable__control:checked~label.sk-toggleable__label {background-color: #d4ebff;}#sk-container-id-1 div.sk-label input.sk-toggleable__control:checked~label.sk-toggleable__label {background-color: #d4ebff;}#sk-container-id-1 input.sk-hidden--visually {border: 0;clip: rect(1px 1px 1px 1px);clip: rect(1px, 1px, 1px, 1px);height: 1px;margin: -1px;overflow: hidden;padding: 0;position: absolute;width: 1px;}#sk-container-id-1 div.sk-estimator {font-family: monospace;background-color: #f0f8ff;border: 1px dotted black;border-radius: 0.25em;box-sizing: border-box;margin-bottom: 0.5em;}#sk-container-id-1 div.sk-estimator:hover {background-color: #d4ebff;}#sk-container-id-1 div.sk-parallel-item::after {content: \"\";width: 100%;border-bottom: 1px solid gray;flex-grow: 1;}#sk-container-id-1 div.sk-label:hover label.sk-toggleable__label {background-color: #d4ebff;}#sk-container-id-1 div.sk-serial::before {content: \"\";position: absolute;border-left: 1px solid gray;box-sizing: border-box;top: 0;bottom: 0;left: 50%;z-index: 0;}#sk-container-id-1 div.sk-serial {display: flex;flex-direction: column;align-items: center;background-color: white;padding-right: 0.2em;padding-left: 0.2em;position: relative;}#sk-container-id-1 div.sk-item {position: relative;z-index: 1;}#sk-container-id-1 div.sk-parallel {display: flex;align-items: stretch;justify-content: center;background-color: white;position: relative;}#sk-container-id-1 div.sk-item::before, #sk-container-id-1 div.sk-parallel-item::before {content: \"\";position: absolute;border-left: 1px solid gray;box-sizing: border-box;top: 0;bottom: 0;left: 50%;z-index: -1;}#sk-container-id-1 div.sk-parallel-item {display: flex;flex-direction: column;z-index: 1;position: relative;background-color: white;}#sk-container-id-1 div.sk-parallel-item:first-child::after {align-self: flex-end;width: 50%;}#sk-container-id-1 div.sk-parallel-item:last-child::after {align-self: flex-start;width: 50%;}#sk-container-id-1 div.sk-parallel-item:only-child::after {width: 0;}#sk-container-id-1 div.sk-dashed-wrapped {border: 1px dashed gray;margin: 0 0.4em 0.5em 0.4em;box-sizing: border-box;padding-bottom: 0.4em;background-color: white;}#sk-container-id-1 div.sk-label label {font-family: monospace;font-weight: bold;display: inline-block;line-height: 1.2em;}#sk-container-id-1 div.sk-label-container {text-align: center;}#sk-container-id-1 div.sk-container {/* jupyter's `normalize.less` sets `[hidden] { display: none; }` but bootstrap.min.css set `[hidden] { display: none !important; }` so we also need the `!important` here to be able to override the default hidden behavior on the sphinx rendered scikit-learn.org. See: https://github.com/scikit-learn/scikit-learn/issues/21755 */display: inline-block !important;position: relative;}#sk-container-id-1 div.sk-text-repr-fallback {display: none;}</style><div id=\"sk-container-id-1\" class=\"sk-top-container\"><div class=\"sk-text-repr-fallback\"><pre>LinearRegression()</pre><b>In a Jupyter environment, please rerun this cell to show the HTML representation or trust the notebook. <br />On GitHub, the HTML representation is unable to render, please try loading this page with nbviewer.org.</b></div><div class=\"sk-container\" hidden><div class=\"sk-item\"><div class=\"sk-estimator sk-toggleable\"><input class=\"sk-toggleable__control sk-hidden--visually\" id=\"sk-estimator-id-1\" type=\"checkbox\" checked><label for=\"sk-estimator-id-1\" class=\"sk-toggleable__label sk-toggleable__label-arrow\">LinearRegression</label><div class=\"sk-toggleable__content\"><pre>LinearRegression()</pre></div></div></div></div></div>"
      ],
      "text/plain": [
       "LinearRegression()"
      ]
     },
     "execution_count": 24,
     "metadata": {},
     "output_type": "execute_result"
    }
   ],
   "source": [
    "# Entraîner un modèle de régression linéaire pour la latitude\n",
    "model_latitude = LinearRegression()\n",
    "model_latitude.fit(X_train, y_train['Latitude'])"
   ]
  },
  {
   "cell_type": "code",
   "execution_count": 25,
   "id": "c129e4ec-45de-4246-adb2-add4bef4dced",
   "metadata": {},
   "outputs": [
    {
     "data": {
      "text/html": [
       "<style>#sk-container-id-2 {color: black;}#sk-container-id-2 pre{padding: 0;}#sk-container-id-2 div.sk-toggleable {background-color: white;}#sk-container-id-2 label.sk-toggleable__label {cursor: pointer;display: block;width: 100%;margin-bottom: 0;padding: 0.3em;box-sizing: border-box;text-align: center;}#sk-container-id-2 label.sk-toggleable__label-arrow:before {content: \"▸\";float: left;margin-right: 0.25em;color: #696969;}#sk-container-id-2 label.sk-toggleable__label-arrow:hover:before {color: black;}#sk-container-id-2 div.sk-estimator:hover label.sk-toggleable__label-arrow:before {color: black;}#sk-container-id-2 div.sk-toggleable__content {max-height: 0;max-width: 0;overflow: hidden;text-align: left;background-color: #f0f8ff;}#sk-container-id-2 div.sk-toggleable__content pre {margin: 0.2em;color: black;border-radius: 0.25em;background-color: #f0f8ff;}#sk-container-id-2 input.sk-toggleable__control:checked~div.sk-toggleable__content {max-height: 200px;max-width: 100%;overflow: auto;}#sk-container-id-2 input.sk-toggleable__control:checked~label.sk-toggleable__label-arrow:before {content: \"▾\";}#sk-container-id-2 div.sk-estimator input.sk-toggleable__control:checked~label.sk-toggleable__label {background-color: #d4ebff;}#sk-container-id-2 div.sk-label input.sk-toggleable__control:checked~label.sk-toggleable__label {background-color: #d4ebff;}#sk-container-id-2 input.sk-hidden--visually {border: 0;clip: rect(1px 1px 1px 1px);clip: rect(1px, 1px, 1px, 1px);height: 1px;margin: -1px;overflow: hidden;padding: 0;position: absolute;width: 1px;}#sk-container-id-2 div.sk-estimator {font-family: monospace;background-color: #f0f8ff;border: 1px dotted black;border-radius: 0.25em;box-sizing: border-box;margin-bottom: 0.5em;}#sk-container-id-2 div.sk-estimator:hover {background-color: #d4ebff;}#sk-container-id-2 div.sk-parallel-item::after {content: \"\";width: 100%;border-bottom: 1px solid gray;flex-grow: 1;}#sk-container-id-2 div.sk-label:hover label.sk-toggleable__label {background-color: #d4ebff;}#sk-container-id-2 div.sk-serial::before {content: \"\";position: absolute;border-left: 1px solid gray;box-sizing: border-box;top: 0;bottom: 0;left: 50%;z-index: 0;}#sk-container-id-2 div.sk-serial {display: flex;flex-direction: column;align-items: center;background-color: white;padding-right: 0.2em;padding-left: 0.2em;position: relative;}#sk-container-id-2 div.sk-item {position: relative;z-index: 1;}#sk-container-id-2 div.sk-parallel {display: flex;align-items: stretch;justify-content: center;background-color: white;position: relative;}#sk-container-id-2 div.sk-item::before, #sk-container-id-2 div.sk-parallel-item::before {content: \"\";position: absolute;border-left: 1px solid gray;box-sizing: border-box;top: 0;bottom: 0;left: 50%;z-index: -1;}#sk-container-id-2 div.sk-parallel-item {display: flex;flex-direction: column;z-index: 1;position: relative;background-color: white;}#sk-container-id-2 div.sk-parallel-item:first-child::after {align-self: flex-end;width: 50%;}#sk-container-id-2 div.sk-parallel-item:last-child::after {align-self: flex-start;width: 50%;}#sk-container-id-2 div.sk-parallel-item:only-child::after {width: 0;}#sk-container-id-2 div.sk-dashed-wrapped {border: 1px dashed gray;margin: 0 0.4em 0.5em 0.4em;box-sizing: border-box;padding-bottom: 0.4em;background-color: white;}#sk-container-id-2 div.sk-label label {font-family: monospace;font-weight: bold;display: inline-block;line-height: 1.2em;}#sk-container-id-2 div.sk-label-container {text-align: center;}#sk-container-id-2 div.sk-container {/* jupyter's `normalize.less` sets `[hidden] { display: none; }` but bootstrap.min.css set `[hidden] { display: none !important; }` so we also need the `!important` here to be able to override the default hidden behavior on the sphinx rendered scikit-learn.org. See: https://github.com/scikit-learn/scikit-learn/issues/21755 */display: inline-block !important;position: relative;}#sk-container-id-2 div.sk-text-repr-fallback {display: none;}</style><div id=\"sk-container-id-2\" class=\"sk-top-container\"><div class=\"sk-text-repr-fallback\"><pre>LinearRegression()</pre><b>In a Jupyter environment, please rerun this cell to show the HTML representation or trust the notebook. <br />On GitHub, the HTML representation is unable to render, please try loading this page with nbviewer.org.</b></div><div class=\"sk-container\" hidden><div class=\"sk-item\"><div class=\"sk-estimator sk-toggleable\"><input class=\"sk-toggleable__control sk-hidden--visually\" id=\"sk-estimator-id-2\" type=\"checkbox\" checked><label for=\"sk-estimator-id-2\" class=\"sk-toggleable__label sk-toggleable__label-arrow\">LinearRegression</label><div class=\"sk-toggleable__content\"><pre>LinearRegression()</pre></div></div></div></div></div>"
      ],
      "text/plain": [
       "LinearRegression()"
      ]
     },
     "execution_count": 25,
     "metadata": {},
     "output_type": "execute_result"
    }
   ],
   "source": [
    "# Entraîner un modèle de régression linéaire pour la longitude\n",
    "model_longitude = LinearRegression()\n",
    "model_longitude.fit(X_train, y_train['Longitude'])"
   ]
  },
  {
   "cell_type": "code",
   "execution_count": 26,
   "id": "25b69595-4e9e-427e-89db-19193f26b7b7",
   "metadata": {},
   "outputs": [],
   "source": [
    "# Faire des prédictions sur l'ensemble de test\n",
    "predictions_latitude = model_latitude.predict(X_test)\n",
    "predictions_longitude = model_longitude.predict(X_test)"
   ]
  },
  {
   "cell_type": "code",
   "execution_count": 27,
   "id": "bfeb8c5b-19b8-4d91-aa2e-2606ff955d9c",
   "metadata": {},
   "outputs": [],
   "source": [
    "df_test = df.loc[X_test.index].copy()\n",
    "df_test['Prédiction_Latitude'] = predictions_latitude\n",
    "df_test['Prédiction_Longitude'] = predictions_longitude"
   ]
  },
  {
   "cell_type": "code",
   "execution_count": 28,
   "id": "c839dfc5-62ea-4df6-8a7b-bbccc77ddce5",
   "metadata": {},
   "outputs": [
    {
     "name": "stdout",
     "output_type": "stream",
     "text": [
      "                           Région     Saison   Latitude  Longitude  \\\n",
      "55018                    Bretagne  Printemps  47.749550  -3.323090   \n",
      "13460                    Bretagne      Hiver  47.991260  -4.073570   \n",
      "459                     Grand Est  Printemps  49.335994   5.549077   \n",
      "17095  Provence-Alpes-Côte d'Azur      Hiver  43.954070   4.858312   \n",
      "16882     Bourgogne-Franche-Comté  Printemps  47.852347   3.597705   \n",
      "...                           ...        ...        ...        ...   \n",
      "27568                   Normandie  Printemps  49.100950   1.450840   \n",
      "4064   Provence-Alpes-Côte d'Azur  Printemps  43.381820   5.225860   \n",
      "50580          Nouvelle-Aquitaine    Automne  43.466656  -1.289220   \n",
      "45211             Hauts-de-France  Printemps  49.591372   2.774895   \n",
      "3758                Île-de-France    Automne  48.865000   2.677000   \n",
      "\n",
      "       Prédiction_Latitude  Prédiction_Longitude  \n",
      "55018            46.722256              3.245092  \n",
      "13460            46.709371              3.180834  \n",
      "459              46.868810              3.002853  \n",
      "17095            47.149035              2.454115  \n",
      "16882            46.673404              3.325839  \n",
      "...                    ...                   ...  \n",
      "27568            46.966513              2.841360  \n",
      "4064             47.161920              2.518374  \n",
      "50580            46.976710              2.567837  \n",
      "45211            46.917662              2.922106  \n",
      "3758             47.172116              2.244851  \n",
      "\n",
      "[8455 rows x 6 columns]\n"
     ]
    }
   ],
   "source": [
    "print(df_test[['Région', 'Saison', 'Latitude', 'Longitude', 'Prédiction_Latitude', 'Prédiction_Longitude']])"
   ]
  },
  {
   "cell_type": "code",
   "execution_count": 31,
   "id": "19304a87",
   "metadata": {},
   "outputs": [],
   "source": [
    "data_set = pd.DataFrame(df)\n",
    "data_set.to_csv(\"Accident.csv\")"
   ]
  },
  {
   "cell_type": "code",
   "execution_count": 35,
   "id": "972de254-b5d7-491d-ac57-3b9992248eb7",
   "metadata": {},
   "outputs": [],
   "source": [
    "def afficher_predictions_sur_carte(df, coordonnees_col, prediction_lat_col, prediction_lon_col):\n",
    "    # Créer une carte centrée sur la première coordonnée de la liste\n",
    "    carte = folium.Map(location=df[coordonnees_col].iloc[0], zoom_start=10)\n",
    "\n",
    "    # Ajouter des marqueurs pour chaque coordonnée avec une couleur différente en fonction des prédictions\n",
    "    for _, row in df.iterrows():\n",
    "        folium.CircleMarker(location=row[coordonnees_col],\n",
    "                        radius=2,\n",
    "                        popup=f\"Latitude: {row[prediction_lat_col]:.6f}, Longitude: {row[prediction_lon_col]:.6f}\",\n",
    "                      icon=folium.Icon(color='blue')).add_to(carte)"
   ]
  },
  {
   "cell_type": "code",
   "execution_count": null,
   "id": "50a9659a-a717-493e-b0c1-4bd56f6a29bd",
   "metadata": {},
   "outputs": [],
   "source": []
  }
 ],
 "metadata": {
  "kernelspec": {
   "display_name": "ml",
   "language": "python",
   "name": "ml"
  },
  "language_info": {
   "codemirror_mode": {
    "name": "ipython",
    "version": 3
   },
   "file_extension": ".py",
   "mimetype": "text/x-python",
   "name": "python",
   "nbconvert_exporter": "python",
   "pygments_lexer": "ipython3",
   "version": "3.10.4"
  }
 },
 "nbformat": 4,
 "nbformat_minor": 5
}
